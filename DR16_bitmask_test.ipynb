{
 "cells": [
  {
   "cell_type": "markdown",
   "metadata": {},
   "source": [
    "# DR16Q bitmask testing\n",
    "DR16Q_v3.fits appeared to have the RQS bitmasks set incorrectly compared to spAll-v5_13_0.  This notebook investigates this issue more rigorously in DR16Q_v4.fits which is current.\n",
    "\n",
    "In order to run this, you'll need DR16Q_v4.fits and spAll-v5_13_0.fits, which you can obtain from these websites:\n",
    "https://www.sdss.org/dr16/algorithms/qso_catalog/\n",
    "\n",
    "https://data.sdss.org/sas/dr16/eboss/spectro/redux/v5_13_0/  (<-- Vorsicht!  This is 14.8GB.)\n",
    "\n",
    "From Lyke et al. (2020) Table 1, it appears that the RQS bitmasks may have been excluded because they were not listed in the .par file when the catalog was made.  This is still confusing, because querying them does return something.  This cut in bitmasks is reflected in the Python code that pulls quasars out of the spAll file to make the superset.  It is located here:\n",
    "\n",
    "https://github.com/bradlyke/dr16q/blob/master/spAll_class_full.py"
   ]
  },
  {
   "cell_type": "markdown",
   "metadata": {},
   "source": [
    "# Setup"
   ]
  },
  {
   "cell_type": "code",
   "execution_count": 1,
   "metadata": {},
   "outputs": [],
   "source": [
    "# import block\n",
    "import numpy as np\n",
    "from astropy.io import fits\n",
    "from pydl.pydlutils.sdss import sdss_flagval as flagval\n",
    "from pydl.pydlutils.sdss import set_maskbits"
   ]
  },
  {
   "cell_type": "code",
   "execution_count": 2,
   "metadata": {},
   "outputs": [],
   "source": [
    "# setup\n",
    "data_dir = '/Users/runnojc1/Research/data/sdss/dr16/'"
   ]
  },
  {
   "cell_type": "markdown",
   "metadata": {},
   "source": [
    "# DR16Q_v4.fits bitmask check"
   ]
  },
  {
   "cell_type": "code",
   "execution_count": 3,
   "metadata": {},
   "outputs": [],
   "source": [
    "# read in DR16Q_v4.fits\n",
    "# https://www.sdss.org/dr16/algorithms/qso_catalog/\n",
    "dr16_hdu = fits.open(data_dir+'DR16Q_v4.fits')\n",
    "hdr      = dr16_hdu[1].header\n",
    "dr16     = dr16_hdu[1].data"
   ]
  },
  {
   "cell_type": "code",
   "execution_count": 4,
   "metadata": {},
   "outputs": [],
   "source": [
    "# set the RQS bitmasks\n",
    "# https://www.sdss.org/dr16/algorithms/bitmasks/#EBOSS_TARGET2\n",
    "TDSS_RQS1  = 2**34\n",
    "TDSS_RQS2  = 2**35\n",
    "TDSS_RQS3  = 2**36\n",
    "TDSS_RQS2v = 2**37\n",
    "TDSS_RQS3v = 2**38\n",
    "\n",
    "# pull the bitmask\n",
    "eboss_target2 = (dr16['EBOSS_TARGET2'])\n",
    "\n",
    "# check them\n",
    "rqs = np.where((eboss_target2 & TDSS_RQS1) | (eboss_target2 & TDSS_RQS2) | (eboss_target2 & TDSS_RQS3) | (eboss_target2 & TDSS_RQS2v) | (eboss_target2 & TDSS_RQS3v))[0]"
   ]
  },
  {
   "cell_type": "code",
   "execution_count": 5,
   "metadata": {},
   "outputs": [],
   "source": [
    "# try again with slightly different syntax\n",
    "# (it is ultimately not very different)\n",
    "\n",
    "# note that the pydl flagval function grabs this .par file:\n",
    "# https://svn.sdss.org/public/repo/sdss/idlutils/tags/v5_5_24/data/sdss/sdssMaskbits.par\n",
    "# which does not have the RQS flags.  Use a more recent one instead:\n",
    "# https://svn.sdss.org/public/repo/sdss/idlutils/tags/v5_5_33/data/sdss/sdssMaskbits.par\n",
    "\n",
    "# also, the pydl function automatically capitalizes your input flags\n",
    "# this means that it can't find TDSS_RQS2v and TDSS_RQS3v\n",
    "\n",
    "# I edited pydl/pydlutils/sdss.py to default to v5_5_33 and not to capitalize flags\n",
    "\n",
    "et2_flag_names = np.array(['TDSS_RQS1','TDSS_RQS2','TDSS_RQS3','TDSS_RQS2v','TDSS_RQS3v'])\n",
    "et2 = flagval('EBOSS_TARGET2',et2_flag_names)\n",
    "rqs = np.where((dr16['EBOSS_TARGET2']&et2))[0]"
   ]
  },
  {
   "cell_type": "code",
   "execution_count": 6,
   "metadata": {},
   "outputs": [
    {
     "data": {
      "text/plain": [
       "'Count 80129 objects with an RQS bitmask set in DR16Q_v4.fits.'"
      ]
     },
     "execution_count": 6,
     "metadata": {},
     "output_type": "execute_result"
    }
   ],
   "source": [
    "(\"Count {0} objects with an RQS bitmask set in DR16Q_v4.fits.\").format(np.shape(rqs)[0])"
   ]
  },
  {
   "cell_type": "markdown",
   "metadata": {},
   "source": [
    "# spAll_v5_13_0.fits bitmask check"
   ]
  },
  {
   "cell_type": "code",
   "execution_count": 2,
   "metadata": {},
   "outputs": [],
   "source": [
    "# read in spAll-v5_13_0\n",
    "# https://data.sdss.org/sas/dr16/eboss/spectro/redux/v5_13_0/\n",
    "data_dir = '/Users/runnoejc/Desktop/Research/2019_NSF_AAG/'"
   ]
  },
  {
   "cell_type": "code",
   "execution_count": 3,
   "metadata": {},
   "outputs": [],
   "source": [
    "spall_hdu = fits.open(data_dir+'spAll-v5_13_0.fits.gz')\n",
    "spall_header = spall_hdu[1].header\n",
    "spall = spall_hdu[1].data"
   ]
  },
  {
   "cell_type": "code",
   "execution_count": 4,
   "metadata": {},
   "outputs": [],
   "source": [
    "# set the RQS bitmasks\n",
    "# https://www.sdss.org/dr16/algorithms/bitmasks/#EBOSS_TARGET2\n",
    "TDSS_RQS1  = 2**34\n",
    "TDSS_RQS2  = 2**35\n",
    "TDSS_RQS3  = 2**36\n",
    "TDSS_RQS2v = 2**37\n",
    "TDSS_RQS3v = 2**38\n",
    "\n",
    "# pull the bitmask\n",
    "eboss_target2 = (spall['EBOSS_TARGET2'])\n",
    "\n",
    "# check them\n",
    "rqs = np.where((eboss_target2 & TDSS_RQS1) | (eboss_target2 & TDSS_RQS2) | (eboss_target2 & TDSS_RQS3) | (eboss_target2 & TDSS_RQS2v) | (eboss_target2 & TDSS_RQS3v))[0]\n"
   ]
  },
  {
   "cell_type": "code",
   "execution_count": 6,
   "metadata": {},
   "outputs": [
    {
     "data": {
      "text/plain": [
       "'Count 16509 objects with an RQS bitmask set in spAll-v5_13_0.fits.'"
      ]
     },
     "execution_count": 6,
     "metadata": {},
     "output_type": "execute_result"
    }
   ],
   "source": [
    "(\"Count {0} objects with an RQS bitmask set in spAll-v5_13_0.fits.\").format(np.shape(rqs)[0])"
   ]
  }
 ],
 "metadata": {
  "kernelspec": {
   "display_name": "Python 3",
   "language": "python",
   "name": "python3"
  },
  "language_info": {
   "codemirror_mode": {
    "name": "ipython",
    "version": 3
   },
   "file_extension": ".py",
   "mimetype": "text/x-python",
   "name": "python",
   "nbconvert_exporter": "python",
   "pygments_lexer": "ipython3",
   "version": "3.7.3"
  }
 },
 "nbformat": 4,
 "nbformat_minor": 2
}
